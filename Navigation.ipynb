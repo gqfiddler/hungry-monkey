{
 "cells": [
  {
   "cell_type": "markdown",
   "metadata": {},
   "source": [
    "# Navigation\n",
    "\n",
    "---\n",
    "\n",
    "In this notebook, you will learn how to use the Unity ML-Agents environment for the first project of the [Deep Reinforcement Learning Nanodegree](https://www.udacity.com/course/deep-reinforcement-learning-nanodegree--nd893).\n",
    "\n",
    "### 1. Start the Environment\n",
    "\n",
    "We begin by importing some necessary packages.  If the code cell below returns an error, please revisit the project instructions to double-check that you have installed [Unity ML-Agents](https://github.com/Unity-Technologies/ml-agents/blob/master/docs/Installation.md) and [NumPy](http://www.numpy.org/)."
   ]
  },
  {
   "cell_type": "code",
   "execution_count": 1,
   "metadata": {},
   "outputs": [],
   "source": [
    "from unityagents import UnityEnvironment\n",
    "import numpy as np\n",
    "import pandas as pd\n",
    "import matplotlib.pyplot as plt\n",
    "%matplotlib inline\n",
    "\n",
    "%load_ext autoreload\n",
    "%autoreload 2"
   ]
  },
  {
   "cell_type": "markdown",
   "metadata": {},
   "source": [
    "Next, we will start the environment!  **_Before running the code cell below_**, change the `file_name` parameter to match the location of the Unity environment that you downloaded.\n",
    "\n",
    "- **Mac**: `\"path/to/Banana.app\"`\n",
    "- **Windows** (x86): `\"path/to/Banana_Windows_x86/Banana.exe\"`\n",
    "- **Windows** (x86_64): `\"path/to/Banana_Windows_x86_64/Banana.exe\"`\n",
    "- **Linux** (x86): `\"path/to/Banana_Linux/Banana.x86\"`\n",
    "- **Linux** (x86_64): `\"path/to/Banana_Linux/Banana.x86_64\"`\n",
    "- **Linux** (x86, headless): `\"path/to/Banana_Linux_NoVis/Banana.x86\"`\n",
    "- **Linux** (x86_64, headless): `\"path/to/Banana_Linux_NoVis/Banana.x86_64\"`\n",
    "\n",
    "For instance, if you are using a Mac, then you downloaded `Banana.app`.  If this file is in the same folder as the notebook, then the line below should appear as follows:\n",
    "```\n",
    "env = UnityEnvironment(file_name=\"Banana.app\")\n",
    "```"
   ]
  },
  {
   "cell_type": "code",
   "execution_count": 2,
   "metadata": {
    "scrolled": true
   },
   "outputs": [
    {
     "name": "stderr",
     "output_type": "stream",
     "text": [
      "INFO:unityagents:\n",
      "'Academy' started successfully!\n",
      "Unity Academy name: Academy\n",
      "        Number of Brains: 1\n",
      "        Number of External Brains : 1\n",
      "        Lesson number : 0\n",
      "        Reset Parameters :\n",
      "\t\t\n",
      "Unity brain name: BananaBrain\n",
      "        Number of Visual Observations (per agent): 0\n",
      "        Vector Observation space type: continuous\n",
      "        Vector Observation space size (per agent): 37\n",
      "        Number of stacked Vector Observation: 1\n",
      "        Vector Action space type: discrete\n",
      "        Vector Action space size (per agent): 4\n",
      "        Vector Action descriptions: , , , \n"
     ]
    }
   ],
   "source": [
    "env = UnityEnvironment(file_name=\"Banana.app\")"
   ]
  },
  {
   "cell_type": "markdown",
   "metadata": {},
   "source": [
    "Environments contain **_brains_** which are responsible for deciding the actions of their associated agents. Here we check for the first brain available, and set it as the default brain we will be controlling from Python."
   ]
  },
  {
   "cell_type": "code",
   "execution_count": 3,
   "metadata": {},
   "outputs": [],
   "source": [
    "# get the default brain\n",
    "brain_name = env.brain_names[0]\n",
    "brain = env.brains[brain_name]"
   ]
  },
  {
   "cell_type": "markdown",
   "metadata": {},
   "source": [
    "### 2. Examine the State and Action Spaces\n",
    "\n",
    "The simulation contains a single agent that navigates a large environment.  At each time step, it has four actions at its disposal:\n",
    "- `0` - walk forward \n",
    "- `1` - walk backward\n",
    "- `2` - turn left\n",
    "- `3` - turn right\n",
    "\n",
    "The state space has `37` dimensions and contains the agent's velocity, along with ray-based perception of objects around agent's forward direction.  A reward of `+1` is provided for collecting a yellow banana, and a reward of `-1` is provided for collecting a blue banana. \n",
    "\n",
    "Run the code cell below to print some information about the environment."
   ]
  },
  {
   "cell_type": "code",
   "execution_count": 4,
   "metadata": {},
   "outputs": [
    {
     "name": "stdout",
     "output_type": "stream",
     "text": [
      "Number of agents: 1\n",
      "Number of actions: 4\n",
      "States look like: [1.         0.         0.         0.         0.84408134 0.\n",
      " 0.         1.         0.         0.0748472  0.         1.\n",
      " 0.         0.         0.25755    1.         0.         0.\n",
      " 0.         0.74177343 0.         1.         0.         0.\n",
      " 0.25854847 0.         0.         1.         0.         0.09355672\n",
      " 0.         1.         0.         0.         0.31969345 0.\n",
      " 0.        ]\n",
      "States have length: 37\n"
     ]
    }
   ],
   "source": [
    "# reset the environment\n",
    "env_info = env.reset(train_mode=True)[brain_name]\n",
    "\n",
    "# number of agents in the environment\n",
    "print('Number of agents:', len(env_info.agents))\n",
    "\n",
    "# number of actions\n",
    "action_size = brain.vector_action_space_size\n",
    "print('Number of actions:', action_size)\n",
    "\n",
    "# examine the state space \n",
    "state = env_info.vector_observations[0]\n",
    "print('States look like:', state)\n",
    "state_size = len(state)\n",
    "print('States have length:', state_size)"
   ]
  },
  {
   "cell_type": "markdown",
   "metadata": {},
   "source": [
    "### 3. Take Random Actions in the Environment\n",
    "\n",
    "In the next code cell, you will learn how to use the Python API to control the agent and receive feedback from the environment.\n",
    "\n",
    "Once this cell is executed, you will watch the agent's performance, if it selects an action (uniformly) at random with each time step.  A window should pop up that allows you to observe the agent, as it moves through the environment.  \n",
    "\n",
    "Of course, as part of the project, you'll have to change the code so that the agent is able to use its experience to gradually choose better actions when interacting with the environment!"
   ]
  },
  {
   "cell_type": "code",
   "execution_count": 5,
   "metadata": {},
   "outputs": [
    {
     "name": "stdout",
     "output_type": "stream",
     "text": [
      "Score: 0.0\n"
     ]
    }
   ],
   "source": [
    "env_info = env.reset(train_mode=False)[brain_name] # reset the environment\n",
    "state = env_info.vector_observations[0]            # get the current state\n",
    "score = 0                                          # initialize the score\n",
    "while True:\n",
    "    action = np.random.randint(action_size)        # select an action\n",
    "    env_info = env.step(action)[brain_name]        # send the action to the environment\n",
    "    next_state = env_info.vector_observations[0]   # get the next state\n",
    "    reward = env_info.rewards[0]                   # get the reward\n",
    "    done = env_info.local_done[0]                  # see if episode has finished\n",
    "    score += reward                                # update the score\n",
    "    state = next_state                             # roll over the state to next time step\n",
    "    if done:                                       # exit loop if episode finished\n",
    "        break\n",
    "    \n",
    "print(\"Score: {}\".format(score))"
   ]
  },
  {
   "cell_type": "markdown",
   "metadata": {},
   "source": [
    "When finished, you can close the environment."
   ]
  },
  {
   "cell_type": "code",
   "execution_count": 6,
   "metadata": {},
   "outputs": [],
   "source": [
    "env.close()"
   ]
  },
  {
   "cell_type": "markdown",
   "metadata": {},
   "source": [
    "### 4. It's Your Turn!\n",
    "\n",
    "Now it's your turn to train your own agent to solve the environment!  When training the environment, set `train_mode=True`, so that the line for resetting the environment looks like the following:\n",
    "```python\n",
    "env_info = env.reset(train_mode=True)[brain_name]\n",
    "```"
   ]
  },
  {
   "cell_type": "markdown",
   "metadata": {},
   "source": [
    "### base agent"
   ]
  },
  {
   "cell_type": "code",
   "execution_count": 8,
   "metadata": {},
   "outputs": [
    {
     "name": "stdout",
     "output_type": "stream",
     "text": [
      "Warning: insufficient stored steps; skipping training\n",
      "Warning: insufficient stored steps; skipping training\n",
      "Warning: insufficient stored steps; skipping training\n",
      "Warning: insufficient stored steps; skipping training\n",
      "Warning: insufficient stored steps; skipping training\n",
      "Warning: insufficient stored steps; skipping training\n",
      "Episode 1\tAverage Score: 0.00\n",
      "Episode 2\tAverage Score: -0.50\n",
      "Episode 3\tAverage Score: -0.33\n",
      "Episode 4\tAverage Score: 0.00\n",
      "Episode 5\tAverage Score: 0.00\n",
      "Episode 6\tAverage Score: -0.17\n",
      "Episode 7\tAverage Score: -0.29\n",
      "Episode 8\tAverage Score: -0.12\n",
      "Episode 9\tAverage Score: -0.11\n",
      "Episode 10\tAverage Score: -0.10\n",
      "Episode 11\tAverage Score: -0.09\n",
      "Episode 12\tAverage Score: -0.17\n",
      "Episode 13\tAverage Score: -0.08\n",
      "Episode 14\tAverage Score: 0.00\n",
      "Episode 15\tAverage Score: 0.00\n",
      "Episode 16\tAverage Score: 0.00\n",
      "Episode 17\tAverage Score: -0.06\n",
      "Episode 18\tAverage Score: -0.11\n",
      "Episode 19\tAverage Score: -0.11\n",
      "Episode 20\tAverage Score: -0.10\n"
     ]
    },
    {
     "data": {
      "image/png": "[encoded data removed]",
      "text/plain": [
       "<Figure size 432x288 with 1 Axes>"
      ]
     },
     "metadata": {
      "needs_background": "light"
     },
     "output_type": "display_data"
    },
    {
     "name": "stdout",
     "output_type": "stream",
     "text": [
      "CPU times: user 46.5 s, sys: 17.2 s, total: 1min 3s\n",
      "Wall time: 1min 12s\n"
     ]
    }
   ],
   "source": [
    "%%time\n",
    "# import sys\n",
    "# sys.path.append('/Users/garrettfiddler/Documents/Workspace/RL/')\n",
    "# from bananas.agent import Agent\n",
    "from base_agent import Agent\n",
    "from training_loop import train_agent\n",
    "\n",
    "env_info = env.reset(train_mode=True)[brain_name]\n",
    "agent = Agent(state_size=37, action_size=4, seed=27)\n",
    "scores = train_agent(\n",
    "    env=env,\n",
    "    brain_name=brain_name,\n",
    "    agent=agent,\n",
    "    n_episodes=20, \n",
    "    max_t=1000, \n",
    "    eps_end=0.01, \n",
    "    eps_decay=0.995,\n",
    "    train_every_n=10\n",
    ")\n",
    "plt.plot(scores)\n",
    "plt.show()"
   ]
  },
  {
   "cell_type": "code",
   "execution_count": null,
   "metadata": {},
   "outputs": [],
   "source": []
  },
  {
   "cell_type": "markdown",
   "metadata": {},
   "source": [
    "### Prioritized Replay only"
   ]
  },
  {
   "cell_type": "code",
   "execution_count": 18,
   "metadata": {},
   "outputs": [
    {
     "name": "stdout",
     "output_type": "stream",
     "text": [
      "Warning: insufficient stored steps; skipping training\n",
      "Episode 1\tAverage Score: 2.00\tEpsilon: 0.98\n",
      "Episode 2\tAverage Score: 2.00\tEpsilon: 0.96\n",
      "Episode 3\tAverage Score: 1.33\tEpsilon: 0.94\n",
      "Episode 4\tAverage Score: 1.00\tEpsilon: 0.92\n",
      "Episode 5\tAverage Score: 1.20\tEpsilon: 0.90\n",
      "Episode 6\tAverage Score: 1.00\tEpsilon: 0.89\n",
      "Episode 7\tAverage Score: 0.86\tEpsilon: 0.87\n",
      "Episode 8\tAverage Score: 0.75\tEpsilon: 0.85\n",
      "Episode 9\tAverage Score: 0.89\tEpsilon: 0.83\n",
      "Episode 10\tAverage Score: 0.80\tEpsilon: 0.82\n",
      "Episode 11\tAverage Score: 0.73\tEpsilon: 0.80\n",
      "Episode 12\tAverage Score: 0.58\tEpsilon: 0.78\n",
      "Episode 13\tAverage Score: 0.46\tEpsilon: 0.77\n",
      "Episode 14\tAverage Score: 0.50\tEpsilon: 0.75\n",
      "Episode 15\tAverage Score: 0.53\tEpsilon: 0.74\n",
      "Episode 16\tAverage Score: 0.44\tEpsilon: 0.72\n",
      "Episode 17\tAverage Score: 0.35\tEpsilon: 0.71\n",
      "Episode 18\tAverage Score: 0.33\tEpsilon: 0.70\n",
      "Episode 19\tAverage Score: 0.32\tEpsilon: 0.68\n",
      "Episode 20\tAverage Score: 0.30\tEpsilon: 0.67\n",
      "Episode 21\tAverage Score: 0.33\tEpsilon: 0.65\n",
      "Episode 22\tAverage Score: 0.32\tEpsilon: 0.64\n",
      "Episode 23\tAverage Score: 0.30\tEpsilon: 0.63\n",
      "Episode 24\tAverage Score: 0.29\tEpsilon: 0.62\n",
      "Episode 25\tAverage Score: 0.32\tEpsilon: 0.60\n",
      "Episode 26\tAverage Score: 0.35\tEpsilon: 0.59\n",
      "Episode 27\tAverage Score: 0.26\tEpsilon: 0.58\n",
      "Episode 28\tAverage Score: 0.29\tEpsilon: 0.57\n",
      "Episode 29\tAverage Score: 0.24\tEpsilon: 0.56\n",
      "Episode 30\tAverage Score: 0.27\tEpsilon: 0.55\n",
      "Episode 31\tAverage Score: 0.26\tEpsilon: 0.53\n",
      "Episode 32\tAverage Score: 0.25\tEpsilon: 0.52\n",
      "Episode 33\tAverage Score: 0.24\tEpsilon: 0.51\n",
      "Episode 34\tAverage Score: 0.15\tEpsilon: 0.50\n",
      "Episode 35\tAverage Score: 0.14\tEpsilon: 0.49\n",
      "Episode 36\tAverage Score: 0.08\tEpsilon: 0.48\n",
      "Episode 37\tAverage Score: 0.08\tEpsilon: 0.47\n",
      "Episode 38\tAverage Score: 0.08\tEpsilon: 0.46\n",
      "Episode 39\tAverage Score: 0.08\tEpsilon: 0.45\n",
      "Episode 40\tAverage Score: 0.07\tEpsilon: 0.45\n"
     ]
    },
    {
     "data": {
      "image/png": "[encoded data removed]",
      "text/plain": [
       "<Figure size 432x288 with 1 Axes>"
      ]
     },
     "metadata": {
      "needs_background": "light"
     },
     "output_type": "display_data"
    },
    {
     "name": "stdout",
     "output_type": "stream",
     "text": [
      "CPU times: user 1min 41s, sys: 31.4 s, total: 2min 12s\n",
      "Wall time: 1min 27s\n"
     ]
    }
   ],
   "source": [
    "%%time\n",
    "from prioritized_agent import Agent\n",
    "from training_loop import train_agent\n",
    "\n",
    "env_info = env.reset(train_mode=True)[brain_name]\n",
    "agent = Agent(state_size=37, action_size=4, replay_epsilon=0.5, seed=27)\n",
    "scores = train_agent(\n",
    "    env=env,\n",
    "    brain_name=brain_name,\n",
    "    agent=agent,\n",
    "    n_episodes=40, \n",
    "    max_t=1000,\n",
    "    eps_end=0.01, \n",
    "    eps_decay=0.98,\n",
    "    train_every_n=50,\n",
    ")\n",
    "plt.plot(scores)\n",
    "plt.show()"
   ]
  },
  {
   "cell_type": "code",
   "execution_count": null,
   "metadata": {},
   "outputs": [],
   "source": []
  }
 ],
 "metadata": {
  "kernelspec": {
   "display_name": "drlnd",
   "language": "python",
   "name": "drlnd"
  },
  "language_info": {
   "codemirror_mode": {
    "name": "ipython",
    "version": 3
   },
   "file_extension": ".py",
   "mimetype": "text/x-python",
   "name": "python",
   "nbconvert_exporter": "python",
   "pygments_lexer": "ipython3",
   "version": "3.6.13"
  }
 },
 "nbformat": 4,
 "nbformat_minor": 2
}
